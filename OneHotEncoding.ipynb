{
  "nbformat": 4,
  "nbformat_minor": 0,
  "metadata": {
    "colab": {
      "name": "OneHotEncoding.ipynb",
      "provenance": [],
      "collapsed_sections": [],
      "authorship_tag": "ABX9TyMkE2rXsNr5lYLAKkggPb7n",
      "include_colab_link": true
    },
    "kernelspec": {
      "name": "python3",
      "display_name": "Python 3"
    },
    "language_info": {
      "name": "python"
    }
  },
  "cells": [
    {
      "cell_type": "markdown",
      "metadata": {
        "id": "view-in-github",
        "colab_type": "text"
      },
      "source": [
        "<a href=\"https://colab.research.google.com/github/Keleigh123/revisionPandas/blob/main/OneHotEncoding.ipynb\" target=\"_parent\"><img src=\"https://colab.research.google.com/assets/colab-badge.svg\" alt=\"Open In Colab\"/></a>"
      ]
    },
    {
      "cell_type": "code",
      "metadata": {
        "colab": {
          "base_uri": "https://localhost:8080/",
          "height": 204
        },
        "id": "-yza6qH0GdhC",
        "outputId": "62277436-5916-46aa-8ca3-e4837e8a8497"
      },
      "source": [
        "import pandas as pd\n",
        "data = pd.read_csv('https://raw.githubusercontent.com/Keleigh123/revisionPandas/main/Admission.csv')\n",
        "data.head()"
      ],
      "execution_count": 18,
      "outputs": [
        {
          "output_type": "execute_result",
          "data": {
            "text/html": [
              "<div>\n",
              "<style scoped>\n",
              "    .dataframe tbody tr th:only-of-type {\n",
              "        vertical-align: middle;\n",
              "    }\n",
              "\n",
              "    .dataframe tbody tr th {\n",
              "        vertical-align: top;\n",
              "    }\n",
              "\n",
              "    .dataframe thead th {\n",
              "        text-align: right;\n",
              "    }\n",
              "</style>\n",
              "<table border=\"1\" class=\"dataframe\">\n",
              "  <thead>\n",
              "    <tr style=\"text-align: right;\">\n",
              "      <th></th>\n",
              "      <th>GPA</th>\n",
              "      <th>GMAT</th>\n",
              "      <th>Decision</th>\n",
              "    </tr>\n",
              "  </thead>\n",
              "  <tbody>\n",
              "    <tr>\n",
              "      <th>0</th>\n",
              "      <td>2.96</td>\n",
              "      <td>596</td>\n",
              "      <td>admit</td>\n",
              "    </tr>\n",
              "    <tr>\n",
              "      <th>1</th>\n",
              "      <td>3.14</td>\n",
              "      <td>473</td>\n",
              "      <td>admit</td>\n",
              "    </tr>\n",
              "    <tr>\n",
              "      <th>2</th>\n",
              "      <td>3.22</td>\n",
              "      <td>482</td>\n",
              "      <td>admit</td>\n",
              "    </tr>\n",
              "    <tr>\n",
              "      <th>3</th>\n",
              "      <td>3.29</td>\n",
              "      <td>527</td>\n",
              "      <td>admit</td>\n",
              "    </tr>\n",
              "    <tr>\n",
              "      <th>4</th>\n",
              "      <td>3.69</td>\n",
              "      <td>505</td>\n",
              "      <td>admit</td>\n",
              "    </tr>\n",
              "  </tbody>\n",
              "</table>\n",
              "</div>"
            ],
            "text/plain": [
              "    GPA  GMAT Decision\n",
              "0  2.96   596    admit\n",
              "1  3.14   473    admit\n",
              "2  3.22   482    admit\n",
              "3  3.29   527    admit\n",
              "4  3.69   505    admit"
            ]
          },
          "metadata": {},
          "execution_count": 18
        }
      ]
    },
    {
      "cell_type": "code",
      "metadata": {
        "id": "wijVTwytHT_H"
      },
      "source": [
        "from sklearn.preprocessing import OneHotEncoder\n",
        "enc = OneHotEncoder()\n",
        "array = enc.fit_transform(data.Decision.values.reshape(-1,1)).toarray() #when not using a label encoder"
      ],
      "execution_count": 19,
      "outputs": []
    },
    {
      "cell_type": "code",
      "metadata": {
        "id": "v7rIXeKGHUBk"
      },
      "source": [
        "df = pd.DataFrame(array,columns=['Decision'+str(int(i)) for i in range(data.shape[1])])\n",
        "data=pd.concat([data,df],axis=1)"
      ],
      "execution_count": 20,
      "outputs": []
    },
    {
      "cell_type": "code",
      "metadata": {
        "colab": {
          "base_uri": "https://localhost:8080/"
        },
        "id": "9qeSaoPjJHaN",
        "outputId": "49f6d6b0-16f2-482b-8e27-1055002f6376"
      },
      "source": [
        "data=data.drop(['Decision'],axis=1)\n",
        "print(data.head())"
      ],
      "execution_count": 21,
      "outputs": [
        {
          "output_type": "stream",
          "name": "stdout",
          "text": [
            "    GPA  GMAT  Decision0  Decision1  Decision2\n",
            "0  2.96   596        1.0        0.0        0.0\n",
            "1  3.14   473        1.0        0.0        0.0\n",
            "2  3.22   482        1.0        0.0        0.0\n",
            "3  3.29   527        1.0        0.0        0.0\n",
            "4  3.69   505        1.0        0.0        0.0\n"
          ]
        }
      ]
    },
    {
      "cell_type": "code",
      "metadata": {
        "id": "QP6cEEcnM5L6"
      },
      "source": [
        "#This is on one column of data. One Hot Encoding is usually used for feature categorical values though.\n"
      ],
      "execution_count": null,
      "outputs": []
    }
  ]
}