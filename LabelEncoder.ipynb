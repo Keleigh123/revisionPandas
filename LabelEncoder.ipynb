{
  "nbformat": 4,
  "nbformat_minor": 0,
  "metadata": {
    "colab": {
      "name": "LabelEncoder.ipynb",
      "provenance": [],
      "authorship_tag": "ABX9TyOHcJQyVfZCZdA05eLnI2hH",
      "include_colab_link": true
    },
    "kernelspec": {
      "name": "python3",
      "display_name": "Python 3"
    },
    "language_info": {
      "name": "python"
    }
  },
  "cells": [
    {
      "cell_type": "markdown",
      "metadata": {
        "id": "view-in-github",
        "colab_type": "text"
      },
      "source": [
        "<a href=\"https://colab.research.google.com/github/Keleigh123/revisionPandas/blob/main/LabelEncoder.ipynb\" target=\"_parent\"><img src=\"https://colab.research.google.com/assets/colab-badge.svg\" alt=\"Open In Colab\"/></a>"
      ]
    },
    {
      "cell_type": "code",
      "metadata": {
        "colab": {
          "base_uri": "https://localhost:8080/",
          "height": 204
        },
        "id": "4RAFAO0R2LhE",
        "outputId": "c7d378cf-b07d-4cd8-b81e-e75f0638bca4"
      },
      "source": [
        "import pandas as pd\n",
        "data = pd.read_csv('https://raw.githubusercontent.com/Keleigh123/revisionPandas/main/Admission.csv')\n",
        "data.head()"
      ],
      "execution_count": 2,
      "outputs": [
        {
          "output_type": "execute_result",
          "data": {
            "text/html": [
              "<div>\n",
              "<style scoped>\n",
              "    .dataframe tbody tr th:only-of-type {\n",
              "        vertical-align: middle;\n",
              "    }\n",
              "\n",
              "    .dataframe tbody tr th {\n",
              "        vertical-align: top;\n",
              "    }\n",
              "\n",
              "    .dataframe thead th {\n",
              "        text-align: right;\n",
              "    }\n",
              "</style>\n",
              "<table border=\"1\" class=\"dataframe\">\n",
              "  <thead>\n",
              "    <tr style=\"text-align: right;\">\n",
              "      <th></th>\n",
              "      <th>GPA</th>\n",
              "      <th>GMAT</th>\n",
              "      <th>Decision</th>\n",
              "    </tr>\n",
              "  </thead>\n",
              "  <tbody>\n",
              "    <tr>\n",
              "      <th>0</th>\n",
              "      <td>2.96</td>\n",
              "      <td>596</td>\n",
              "      <td>admit</td>\n",
              "    </tr>\n",
              "    <tr>\n",
              "      <th>1</th>\n",
              "      <td>3.14</td>\n",
              "      <td>473</td>\n",
              "      <td>admit</td>\n",
              "    </tr>\n",
              "    <tr>\n",
              "      <th>2</th>\n",
              "      <td>3.22</td>\n",
              "      <td>482</td>\n",
              "      <td>admit</td>\n",
              "    </tr>\n",
              "    <tr>\n",
              "      <th>3</th>\n",
              "      <td>3.29</td>\n",
              "      <td>527</td>\n",
              "      <td>admit</td>\n",
              "    </tr>\n",
              "    <tr>\n",
              "      <th>4</th>\n",
              "      <td>3.69</td>\n",
              "      <td>505</td>\n",
              "      <td>admit</td>\n",
              "    </tr>\n",
              "  </tbody>\n",
              "</table>\n",
              "</div>"
            ],
            "text/plain": [
              "    GPA  GMAT Decision\n",
              "0  2.96   596    admit\n",
              "1  3.14   473    admit\n",
              "2  3.22   482    admit\n",
              "3  3.29   527    admit\n",
              "4  3.69   505    admit"
            ]
          },
          "metadata": {},
          "execution_count": 2
        }
      ]
    },
    {
      "cell_type": "code",
      "metadata": {
        "colab": {
          "base_uri": "https://localhost:8080/"
        },
        "id": "s4oxKWQDEY1d",
        "outputId": "b1127b12-6c18-4012-e8b2-5ca4b015ccda"
      },
      "source": [
        "data.info()"
      ],
      "execution_count": 4,
      "outputs": [
        {
          "output_type": "stream",
          "name": "stdout",
          "text": [
            "<class 'pandas.core.frame.DataFrame'>\n",
            "RangeIndex: 85 entries, 0 to 84\n",
            "Data columns (total 3 columns):\n",
            " #   Column    Non-Null Count  Dtype  \n",
            "---  ------    --------------  -----  \n",
            " 0   GPA       85 non-null     float64\n",
            " 1   GMAT      85 non-null     int64  \n",
            " 2   Decision  85 non-null     object \n",
            "dtypes: float64(1), int64(1), object(1)\n",
            "memory usage: 2.1+ KB\n"
          ]
        }
      ]
    },
    {
      "cell_type": "code",
      "metadata": {
        "colab": {
          "base_uri": "https://localhost:8080/"
        },
        "id": "gzfKA7yqErlN",
        "outputId": "d830eb00-604c-4d38-d6d4-8e83835c3c73"
      },
      "source": [
        "from sklearn.preprocessing import LabelEncoder\n",
        "label = LabelEncoder()\n",
        "data['Decision']=label.fit_transform(data['Decision'])\n",
        "print(data.head())\n"
      ],
      "execution_count": 6,
      "outputs": [
        {
          "output_type": "stream",
          "name": "stdout",
          "text": [
            "    GPA  GMAT  Decision\n",
            "0  2.96   596         0\n",
            "1  3.14   473         0\n",
            "2  3.22   482         0\n",
            "3  3.29   527         0\n",
            "4  3.69   505         0\n"
          ]
        }
      ]
    },
    {
      "cell_type": "code",
      "metadata": {
        "id": "ZjPSrtxrFe8p"
      },
      "source": [
        "#Label Encoder is usually used for converting object type target values.\n",
        "#Problem is there can be relationships among the values and thats why we use One Hot Encoding"
      ],
      "execution_count": null,
      "outputs": []
    }
  ]
}