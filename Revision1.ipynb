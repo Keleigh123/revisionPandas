{
  "nbformat": 4,
  "nbformat_minor": 0,
  "metadata": {
    "colab": {
      "name": "Revision1.ipynb",
      "provenance": [],
      "authorship_tag": "ABX9TyMycBLgmmPxy4p7XuG3EL5j",
      "include_colab_link": true
    },
    "kernelspec": {
      "name": "python3",
      "display_name": "Python 3"
    },
    "language_info": {
      "name": "python"
    }
  },
  "cells": [
    {
      "cell_type": "markdown",
      "metadata": {
        "id": "view-in-github",
        "colab_type": "text"
      },
      "source": [
        "<a href=\"https://colab.research.google.com/github/Keleigh123/revisionPandas/blob/main/Revision1.ipynb\" target=\"_parent\"><img src=\"https://colab.research.google.com/assets/colab-badge.svg\" alt=\"Open In Colab\"/></a>"
      ]
    },
    {
      "cell_type": "code",
      "metadata": {
        "id": "Z21O1EI2APR2"
      },
      "source": [
        "#https://raw.githubusercontent.com/Keleigh123/revisionPandas/main/indexData.csv\n",
        "#https://raw.githubusercontent.com/Keleigh123/revisionPandas/main/online_shoppers_intention.csv\n",
        "#https://raw.githubusercontent.com/Keleigh123/revisionPandas/main/Admission.csv\n",
        "#https://raw.githubusercontent.com/Keleigh123/revisionPandas/main/Covid19_Europe_Sept21.csv\n",
        "#https://raw.githubusercontent.com/Keleigh123/revisionPandas/main/Latest%20Covid-19%20India%20Status.csv"
      ],
      "execution_count": null,
      "outputs": []
    },
    {
      "cell_type": "code",
      "metadata": {
        "id": "VElSqMaaG4NV"
      },
      "source": [
        "import pandas as pd"
      ],
      "execution_count": 17,
      "outputs": []
    },
    {
      "cell_type": "code",
      "metadata": {
        "colab": {
          "base_uri": "https://localhost:8080/",
          "height": 204
        },
        "id": "s6QB5UZhHBwM",
        "outputId": "80bb079b-16f1-498e-84d9-ece1f817d594"
      },
      "source": [
        "data1 = pd.read_csv(\"https://raw.githubusercontent.com/Keleigh123/revisionPandas/main/Latest%20Covid-19%20India%20Status.csv\")\n",
        "data1.head()\n"
      ],
      "execution_count": 19,
      "outputs": [
        {
          "output_type": "execute_result",
          "data": {
            "text/html": [
              "<div>\n",
              "<style scoped>\n",
              "    .dataframe tbody tr th:only-of-type {\n",
              "        vertical-align: middle;\n",
              "    }\n",
              "\n",
              "    .dataframe tbody tr th {\n",
              "        vertical-align: top;\n",
              "    }\n",
              "\n",
              "    .dataframe thead th {\n",
              "        text-align: right;\n",
              "    }\n",
              "</style>\n",
              "<table border=\"1\" class=\"dataframe\">\n",
              "  <thead>\n",
              "    <tr style=\"text-align: right;\">\n",
              "      <th></th>\n",
              "      <th>State/UTs</th>\n",
              "      <th>Total Cases</th>\n",
              "      <th>Active</th>\n",
              "      <th>Discharged</th>\n",
              "      <th>Deaths</th>\n",
              "      <th>Active Ratio (%)</th>\n",
              "      <th>Discharge Ratio (%)</th>\n",
              "      <th>Death Ratio (%)</th>\n",
              "    </tr>\n",
              "  </thead>\n",
              "  <tbody>\n",
              "    <tr>\n",
              "      <th>0</th>\n",
              "      <td>Andaman and Nicobar</td>\n",
              "      <td>7566</td>\n",
              "      <td>6</td>\n",
              "      <td>7431</td>\n",
              "      <td>129</td>\n",
              "      <td>0.08</td>\n",
              "      <td>98.22</td>\n",
              "      <td>1.70</td>\n",
              "    </tr>\n",
              "    <tr>\n",
              "      <th>1</th>\n",
              "      <td>Andhra Pradesh</td>\n",
              "      <td>2014116</td>\n",
              "      <td>14693</td>\n",
              "      <td>1985566</td>\n",
              "      <td>13857</td>\n",
              "      <td>0.73</td>\n",
              "      <td>98.58</td>\n",
              "      <td>0.69</td>\n",
              "    </tr>\n",
              "    <tr>\n",
              "      <th>2</th>\n",
              "      <td>Arunachal Pradesh</td>\n",
              "      <td>53031</td>\n",
              "      <td>863</td>\n",
              "      <td>51908</td>\n",
              "      <td>260</td>\n",
              "      <td>1.63</td>\n",
              "      <td>97.88</td>\n",
              "      <td>0.49</td>\n",
              "    </tr>\n",
              "    <tr>\n",
              "      <th>3</th>\n",
              "      <td>Assam</td>\n",
              "      <td>589426</td>\n",
              "      <td>6901</td>\n",
              "      <td>576865</td>\n",
              "      <td>5660</td>\n",
              "      <td>1.17</td>\n",
              "      <td>97.87</td>\n",
              "      <td>0.96</td>\n",
              "    </tr>\n",
              "    <tr>\n",
              "      <th>4</th>\n",
              "      <td>Bihar</td>\n",
              "      <td>725708</td>\n",
              "      <td>100</td>\n",
              "      <td>715955</td>\n",
              "      <td>9653</td>\n",
              "      <td>0.01</td>\n",
              "      <td>98.66</td>\n",
              "      <td>1.33</td>\n",
              "    </tr>\n",
              "  </tbody>\n",
              "</table>\n",
              "</div>"
            ],
            "text/plain": [
              "             State/UTs  Total Cases  ...  Discharge Ratio (%)  Death Ratio (%)\n",
              "0  Andaman and Nicobar         7566  ...                98.22             1.70\n",
              "1       Andhra Pradesh      2014116  ...                98.58             0.69\n",
              "2    Arunachal Pradesh        53031  ...                97.88             0.49\n",
              "3                Assam       589426  ...                97.87             0.96\n",
              "4                Bihar       725708  ...                98.66             1.33\n",
              "\n",
              "[5 rows x 8 columns]"
            ]
          },
          "metadata": {},
          "execution_count": 19
        }
      ]
    },
    {
      "cell_type": "code",
      "metadata": {
        "id": "eOb6TjmpHgqh"
      },
      "source": [
        "features = ['State/UTs','Total Cases','Active','Discharged']\n",
        "x=pd.get_dummies(data1[features])\n",
        "\n",
        "y = data1.Deaths"
      ],
      "execution_count": 42,
      "outputs": []
    },
    {
      "cell_type": "code",
      "metadata": {
        "id": "i7m_ZRVeUHli"
      },
      "source": [
        "#to check the error between the guessed and true predictions\n",
        "#used get_dummies\n",
        "#used DecisionTreeRegressor"
      ],
      "execution_count": null,
      "outputs": []
    },
    {
      "cell_type": "code",
      "metadata": {
        "id": "0xqH89r-H13c"
      },
      "source": [
        "from sklearn.model_selection import train_test_split\n",
        "from  sklearn.tree import DecisionTreeRegressor\n",
        "from sklearn.metrics import mean_absolute_error"
      ],
      "execution_count": 21,
      "outputs": []
    },
    {
      "cell_type": "code",
      "metadata": {
        "id": "3aEqIvn-IsVx"
      },
      "source": [
        "train_x,test_x,train_y,test_y= train_test_split(x,y,random_state=1)\n",
        "\n",
        "model = DecisionTreeRegressor(random_state=1)"
      ],
      "execution_count": 22,
      "outputs": []
    },
    {
      "cell_type": "code",
      "metadata": {
        "id": "fBja4jbaJPjq"
      },
      "source": [
        "model.fit(train_x,train_y)\n",
        "pred= model.predict(test_x)"
      ],
      "execution_count": 27,
      "outputs": []
    },
    {
      "cell_type": "code",
      "metadata": {
        "colab": {
          "base_uri": "https://localhost:8080/"
        },
        "id": "y_v927HcPT1U",
        "outputId": "f3006e12-7135-4758-8c3c-a45eca72b7c6"
      },
      "source": [
        "mae = mean_absolute_error(test_y,pred)\n",
        "print (mae)"
      ],
      "execution_count": 34,
      "outputs": [
        {
          "output_type": "stream",
          "name": "stdout",
          "text": [
            "2637.8888888888887\n"
          ]
        }
      ]
    },
    {
      "cell_type": "code",
      "metadata": {
        "colab": {
          "base_uri": "https://localhost:8080/"
        },
        "id": "rCn2Yqx1QuJz",
        "outputId": "edaee7f3-adac-4dcc-c734-8f1bba445453"
      },
      "source": [
        "output = pd.DataFrame({'Active':test_x.Active,'Deaths':pred})\n",
        "first=output.to_csv('myFirstRevision.csv', index=False)\n",
        "\n",
        "print(output)"
      ],
      "execution_count": 40,
      "outputs": [
        {
          "output_type": "stream",
          "name": "stdout",
          "text": [
            "    Active   Deaths\n",
            "30   16850  18447.0\n",
            "34     354   4408.0\n",
            "28      97   9677.0\n",
            "3     6901   3873.0\n",
            "19      79   9677.0\n",
            "17      69      4.0\n",
            "21    3397   1812.0\n",
            "23    8885    813.0\n",
            "29    1094    260.0\n"
          ]
        }
      ]
    }
  ]
}