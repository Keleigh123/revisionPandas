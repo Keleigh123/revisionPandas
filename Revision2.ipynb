{
  "nbformat": 4,
  "nbformat_minor": 0,
  "metadata": {
    "colab": {
      "name": "Revision2.ipynb",
      "provenance": [],
      "authorship_tag": "ABX9TyPXXt7Rl0ir6xuK+AqWd00+",
      "include_colab_link": true
    },
    "kernelspec": {
      "name": "python3",
      "display_name": "Python 3"
    },
    "language_info": {
      "name": "python"
    }
  },
  "cells": [
    {
      "cell_type": "markdown",
      "metadata": {
        "id": "view-in-github",
        "colab_type": "text"
      },
      "source": [
        "<a href=\"https://colab.research.google.com/github/Keleigh123/revisionPandas/blob/main/Revision2.ipynb\" target=\"_parent\"><img src=\"https://colab.research.google.com/assets/colab-badge.svg\" alt=\"Open In Colab\"/></a>"
      ]
    },
    {
      "cell_type": "code",
      "metadata": {
        "colab": {
          "base_uri": "https://localhost:8080/",
          "height": 204
        },
        "id": "xdDu5hF6U_Da",
        "outputId": "3ce23f92-0b5c-46cb-a108-d65f9f7a49d3"
      },
      "source": [
        "import pandas as pd\n",
        "\n",
        "data2 = pd.read_csv(\"https://raw.githubusercontent.com/Keleigh123/revisionPandas/main/Admission.csv\")\n",
        "data2.head()"
      ],
      "execution_count": 1,
      "outputs": [
        {
          "output_type": "execute_result",
          "data": {
            "text/html": [
              "<div>\n",
              "<style scoped>\n",
              "    .dataframe tbody tr th:only-of-type {\n",
              "        vertical-align: middle;\n",
              "    }\n",
              "\n",
              "    .dataframe tbody tr th {\n",
              "        vertical-align: top;\n",
              "    }\n",
              "\n",
              "    .dataframe thead th {\n",
              "        text-align: right;\n",
              "    }\n",
              "</style>\n",
              "<table border=\"1\" class=\"dataframe\">\n",
              "  <thead>\n",
              "    <tr style=\"text-align: right;\">\n",
              "      <th></th>\n",
              "      <th>GPA</th>\n",
              "      <th>GMAT</th>\n",
              "      <th>Decision</th>\n",
              "    </tr>\n",
              "  </thead>\n",
              "  <tbody>\n",
              "    <tr>\n",
              "      <th>0</th>\n",
              "      <td>2.96</td>\n",
              "      <td>596</td>\n",
              "      <td>admit</td>\n",
              "    </tr>\n",
              "    <tr>\n",
              "      <th>1</th>\n",
              "      <td>3.14</td>\n",
              "      <td>473</td>\n",
              "      <td>admit</td>\n",
              "    </tr>\n",
              "    <tr>\n",
              "      <th>2</th>\n",
              "      <td>3.22</td>\n",
              "      <td>482</td>\n",
              "      <td>admit</td>\n",
              "    </tr>\n",
              "    <tr>\n",
              "      <th>3</th>\n",
              "      <td>3.29</td>\n",
              "      <td>527</td>\n",
              "      <td>admit</td>\n",
              "    </tr>\n",
              "    <tr>\n",
              "      <th>4</th>\n",
              "      <td>3.69</td>\n",
              "      <td>505</td>\n",
              "      <td>admit</td>\n",
              "    </tr>\n",
              "  </tbody>\n",
              "</table>\n",
              "</div>"
            ],
            "text/plain": [
              "    GPA  GMAT Decision\n",
              "0  2.96   596    admit\n",
              "1  3.14   473    admit\n",
              "2  3.22   482    admit\n",
              "3  3.29   527    admit\n",
              "4  3.69   505    admit"
            ]
          },
          "metadata": {},
          "execution_count": 1
        }
      ]
    },
    {
      "cell_type": "code",
      "metadata": {
        "colab": {
          "base_uri": "https://localhost:8080/",
          "height": 204
        },
        "id": "y9RnJO2_WIeS",
        "outputId": "8fc06f73-9619-45e0-8d4f-faaa43bb2308"
      },
      "source": [
        "features =['GPA','GMAT']\n",
        "x= data2[features]\n",
        "\n",
        "decisionCol = pd.get_dummies(data2['Decision'])\n",
        "\n",
        "data2 = pd.concat((data2, decisionCol),axis=1)\n",
        "data2.head()"
      ],
      "execution_count": 11,
      "outputs": [
        {
          "output_type": "execute_result",
          "data": {
            "text/html": [
              "<div>\n",
              "<style scoped>\n",
              "    .dataframe tbody tr th:only-of-type {\n",
              "        vertical-align: middle;\n",
              "    }\n",
              "\n",
              "    .dataframe tbody tr th {\n",
              "        vertical-align: top;\n",
              "    }\n",
              "\n",
              "    .dataframe thead th {\n",
              "        text-align: right;\n",
              "    }\n",
              "</style>\n",
              "<table border=\"1\" class=\"dataframe\">\n",
              "  <thead>\n",
              "    <tr style=\"text-align: right;\">\n",
              "      <th></th>\n",
              "      <th>GPA</th>\n",
              "      <th>GMAT</th>\n",
              "      <th>Decision</th>\n",
              "      <th>admit</th>\n",
              "      <th>border</th>\n",
              "      <th>notadmit</th>\n",
              "    </tr>\n",
              "  </thead>\n",
              "  <tbody>\n",
              "    <tr>\n",
              "      <th>0</th>\n",
              "      <td>2.96</td>\n",
              "      <td>596</td>\n",
              "      <td>admit</td>\n",
              "      <td>1</td>\n",
              "      <td>0</td>\n",
              "      <td>0</td>\n",
              "    </tr>\n",
              "    <tr>\n",
              "      <th>1</th>\n",
              "      <td>3.14</td>\n",
              "      <td>473</td>\n",
              "      <td>admit</td>\n",
              "      <td>1</td>\n",
              "      <td>0</td>\n",
              "      <td>0</td>\n",
              "    </tr>\n",
              "    <tr>\n",
              "      <th>2</th>\n",
              "      <td>3.22</td>\n",
              "      <td>482</td>\n",
              "      <td>admit</td>\n",
              "      <td>1</td>\n",
              "      <td>0</td>\n",
              "      <td>0</td>\n",
              "    </tr>\n",
              "    <tr>\n",
              "      <th>3</th>\n",
              "      <td>3.29</td>\n",
              "      <td>527</td>\n",
              "      <td>admit</td>\n",
              "      <td>1</td>\n",
              "      <td>0</td>\n",
              "      <td>0</td>\n",
              "    </tr>\n",
              "    <tr>\n",
              "      <th>4</th>\n",
              "      <td>3.69</td>\n",
              "      <td>505</td>\n",
              "      <td>admit</td>\n",
              "      <td>1</td>\n",
              "      <td>0</td>\n",
              "      <td>0</td>\n",
              "    </tr>\n",
              "  </tbody>\n",
              "</table>\n",
              "</div>"
            ],
            "text/plain": [
              "    GPA  GMAT Decision  admit  border  notadmit\n",
              "0  2.96   596    admit      1       0         0\n",
              "1  3.14   473    admit      1       0         0\n",
              "2  3.22   482    admit      1       0         0\n",
              "3  3.29   527    admit      1       0         0\n",
              "4  3.69   505    admit      1       0         0"
            ]
          },
          "metadata": {},
          "execution_count": 11
        }
      ]
    },
    {
      "cell_type": "code",
      "metadata": {
        "colab": {
          "base_uri": "https://localhost:8080/",
          "height": 204
        },
        "id": "0txj2JiqsnM5",
        "outputId": "b60152dc-e000-4ad7-e652-21491c96b657"
      },
      "source": [
        "data2 = data2.drop(['Decision'], axis=1)\n",
        "data2.head()"
      ],
      "execution_count": 12,
      "outputs": [
        {
          "output_type": "execute_result",
          "data": {
            "text/html": [
              "<div>\n",
              "<style scoped>\n",
              "    .dataframe tbody tr th:only-of-type {\n",
              "        vertical-align: middle;\n",
              "    }\n",
              "\n",
              "    .dataframe tbody tr th {\n",
              "        vertical-align: top;\n",
              "    }\n",
              "\n",
              "    .dataframe thead th {\n",
              "        text-align: right;\n",
              "    }\n",
              "</style>\n",
              "<table border=\"1\" class=\"dataframe\">\n",
              "  <thead>\n",
              "    <tr style=\"text-align: right;\">\n",
              "      <th></th>\n",
              "      <th>GPA</th>\n",
              "      <th>GMAT</th>\n",
              "      <th>admit</th>\n",
              "      <th>border</th>\n",
              "      <th>notadmit</th>\n",
              "    </tr>\n",
              "  </thead>\n",
              "  <tbody>\n",
              "    <tr>\n",
              "      <th>0</th>\n",
              "      <td>2.96</td>\n",
              "      <td>596</td>\n",
              "      <td>1</td>\n",
              "      <td>0</td>\n",
              "      <td>0</td>\n",
              "    </tr>\n",
              "    <tr>\n",
              "      <th>1</th>\n",
              "      <td>3.14</td>\n",
              "      <td>473</td>\n",
              "      <td>1</td>\n",
              "      <td>0</td>\n",
              "      <td>0</td>\n",
              "    </tr>\n",
              "    <tr>\n",
              "      <th>2</th>\n",
              "      <td>3.22</td>\n",
              "      <td>482</td>\n",
              "      <td>1</td>\n",
              "      <td>0</td>\n",
              "      <td>0</td>\n",
              "    </tr>\n",
              "    <tr>\n",
              "      <th>3</th>\n",
              "      <td>3.29</td>\n",
              "      <td>527</td>\n",
              "      <td>1</td>\n",
              "      <td>0</td>\n",
              "      <td>0</td>\n",
              "    </tr>\n",
              "    <tr>\n",
              "      <th>4</th>\n",
              "      <td>3.69</td>\n",
              "      <td>505</td>\n",
              "      <td>1</td>\n",
              "      <td>0</td>\n",
              "      <td>0</td>\n",
              "    </tr>\n",
              "  </tbody>\n",
              "</table>\n",
              "</div>"
            ],
            "text/plain": [
              "    GPA  GMAT  admit  border  notadmit\n",
              "0  2.96   596      1       0         0\n",
              "1  3.14   473      1       0         0\n",
              "2  3.22   482      1       0         0\n",
              "3  3.29   527      1       0         0\n",
              "4  3.69   505      1       0         0"
            ]
          },
          "metadata": {},
          "execution_count": 12
        }
      ]
    },
    {
      "cell_type": "code",
      "metadata": {
        "id": "wltMf4CXnHPn"
      },
      "source": [
        "p = data2.admit\n",
        "q= data2.notadmit\n",
        "r = data2.border\n"
      ],
      "execution_count": 13,
      "outputs": []
    },
    {
      "cell_type": "code",
      "metadata": {
        "id": "wDedBzwrWohE"
      },
      "source": [
        "from sklearn.model_selection import train_test_split\n",
        "from sklearn.ensemble import RandomForestClassifier"
      ],
      "execution_count": 5,
      "outputs": []
    },
    {
      "cell_type": "code",
      "metadata": {
        "id": "l7wKQ7QdXCNB"
      },
      "source": [
        "train_x,test_x,train_p,test_p,train_q,test_q,train_r,test_r= train_test_split(x,p,q,r,random_state=1)\n",
        "model=RandomForestClassifier()\n",
        "#we can have multiple train_test_splits rather than putting all together as given."
      ],
      "execution_count": 15,
      "outputs": []
    },
    {
      "cell_type": "code",
      "metadata": {
        "id": "AweFbI_gt6OP"
      },
      "source": [
        "model.fit(train_x,train_p)\n",
        "\n",
        "\n",
        "pred = model.predict(test_x)"
      ],
      "execution_count": 27,
      "outputs": []
    },
    {
      "cell_type": "code",
      "metadata": {
        "id": "fQoUO_sRX2aM"
      },
      "source": [
        "output1 = pd.DataFrame({'GPA':test_x.GPA,'GMAT':test_x.GMAT,'Admit':pred}) #,'NotAdmit':pred,'Border':pred"
      ],
      "execution_count": 28,
      "outputs": []
    },
    {
      "cell_type": "code",
      "metadata": {
        "colab": {
          "base_uri": "https://localhost:8080/"
        },
        "id": "KHlL4S6ruoe8",
        "outputId": "e53614ad-6508-46fb-812d-5e6d762595a3"
      },
      "source": [
        "output1.to_csv('Revision2Complete.csv', index=True)\n",
        "print(output1)"
      ],
      "execution_count": 29,
      "outputs": [
        {
          "output_type": "stream",
          "name": "stdout",
          "text": [
            "     GPA  GMAT  Admit\n",
            "38  2.51   458      0\n",
            "44  2.46   509      0\n",
            "27  3.37   559      1\n",
            "40  2.36   482      0\n",
            "36  2.35   406      0\n",
            "80  3.05   399      0\n",
            "58  2.90   384      0\n",
            "69  3.01   471      0\n",
            "84  3.04   446      0\n",
            "56  2.72   399      0\n",
            "67  2.80   444      0\n",
            "53  2.35   321      0\n",
            "48  2.41   469      0\n",
            "66  2.89   485      0\n",
            "63  2.89   447      0\n",
            "10  3.30   563      1\n",
            "2   3.22   482      1\n",
            "35  2.57   542      0\n",
            "68  3.13   416      0\n",
            "45  2.63   504      0\n",
            "19  3.28   523      1\n",
            "79  3.03   438      0\n"
          ]
        }
      ]
    },
    {
      "cell_type": "code",
      "metadata": {
        "colab": {
          "base_uri": "https://localhost:8080/"
        },
        "id": "bPubM2_i0zTn",
        "outputId": "e540148f-3aa7-4916-bd10-1a156c7df482"
      },
      "source": [
        "from sklearn.metrics import mean_absolute_error\n",
        "print(mean_absolute_error(test_p,pred))"
      ],
      "execution_count": 32,
      "outputs": [
        {
          "output_type": "stream",
          "name": "stdout",
          "text": [
            "46.77272727272727\n"
          ]
        }
      ]
    },
    {
      "cell_type": "code",
      "metadata": {
        "colab": {
          "base_uri": "https://localhost:8080/"
        },
        "id": "R0nHCsF9wqw6",
        "outputId": "98b4001c-014a-4368-9d75-57a6f0936b51"
      },
      "source": [
        "model.fit(train_x,train_q)\n",
        "\n",
        "\n",
        "pred = model.predict(test_x)\n",
        "output2 = pd.DataFrame({'GPA':test_x.GPA,'GMAT':test_x.GMAT,'NotAdmit':pred})\n",
        "print(output2)"
      ],
      "execution_count": 30,
      "outputs": [
        {
          "output_type": "stream",
          "name": "stdout",
          "text": [
            "     GPA  GMAT  NotAdmit\n",
            "38  2.51   458         1\n",
            "44  2.46   509         1\n",
            "27  3.37   559         0\n",
            "40  2.36   482         1\n",
            "36  2.35   406         1\n",
            "80  3.05   399         0\n",
            "58  2.90   384         0\n",
            "69  3.01   471         0\n",
            "84  3.04   446         0\n",
            "56  2.72   399         1\n",
            "67  2.80   444         0\n",
            "53  2.35   321         1\n",
            "48  2.41   469         1\n",
            "66  2.89   485         0\n",
            "63  2.89   447         0\n",
            "10  3.30   563         0\n",
            "2   3.22   482         0\n",
            "35  2.57   542         1\n",
            "68  3.13   416         0\n",
            "45  2.63   504         1\n",
            "19  3.28   523         0\n",
            "79  3.03   438         0\n"
          ]
        }
      ]
    },
    {
      "cell_type": "code",
      "metadata": {
        "colab": {
          "base_uri": "https://localhost:8080/"
        },
        "id": "pvzQ3ZpT1R7i",
        "outputId": "f159aaef-0244-4552-b893-3f296b130156"
      },
      "source": [
        "from sklearn.metrics import mean_absolute_error\n",
        "print(mean_absolute_error(test_q,pred))"
      ],
      "execution_count": 33,
      "outputs": [
        {
          "output_type": "stream",
          "name": "stdout",
          "text": [
            "104.68181818181819\n"
          ]
        }
      ]
    },
    {
      "cell_type": "code",
      "metadata": {
        "colab": {
          "base_uri": "https://localhost:8080/"
        },
        "id": "JIaCF8GJwu3m",
        "outputId": "305266b0-b754-436e-841c-6affb04c1bfa"
      },
      "source": [
        "\n",
        "model.fit(train_x,train_r)\n",
        "\n",
        "pred = model.predict(test_x)\n",
        "output3 = pd.DataFrame({'GPA':test_x.GPA,'GMAT':test_x.GMAT,'Border':pred}) \n",
        "print(output3)"
      ],
      "execution_count": 31,
      "outputs": [
        {
          "output_type": "stream",
          "name": "stdout",
          "text": [
            "     GPA  GMAT  Border\n",
            "38  2.51   458       0\n",
            "44  2.46   509       0\n",
            "27  3.37   559       0\n",
            "40  2.36   482       0\n",
            "36  2.35   406       0\n",
            "80  3.05   399       1\n",
            "58  2.90   384       0\n",
            "69  3.01   471       1\n",
            "84  3.04   446       1\n",
            "56  2.72   399       1\n",
            "67  2.80   444       1\n",
            "53  2.35   321       0\n",
            "48  2.41   469       0\n",
            "66  2.89   485       1\n",
            "63  2.89   447       1\n",
            "10  3.30   563       0\n",
            "2   3.22   482       0\n",
            "35  2.57   542       0\n",
            "68  3.13   416       1\n",
            "45  2.63   504       0\n",
            "19  3.28   523       0\n",
            "79  3.03   438       1\n"
          ]
        }
      ]
    },
    {
      "cell_type": "code",
      "metadata": {
        "colab": {
          "base_uri": "https://localhost:8080/"
        },
        "id": "OsNoYdgr1boz",
        "outputId": "1ac222d1-9461-458e-802f-5c00c8dc5384"
      },
      "source": [
        "from sklearn.metrics import mean_absolute_error\n",
        "print(mean_absolute_error(test_r,pred))"
      ],
      "execution_count": 34,
      "outputs": [
        {
          "output_type": "stream",
          "name": "stdout",
          "text": [
            "0.045454545454545456\n"
          ]
        }
      ]
    }
  ]
}