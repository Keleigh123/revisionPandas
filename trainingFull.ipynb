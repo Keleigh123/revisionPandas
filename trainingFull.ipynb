{
  "nbformat": 4,
  "nbformat_minor": 0,
  "metadata": {
    "colab": {
      "name": "trainingFull.ipynb",
      "provenance": [],
      "authorship_tag": "ABX9TyNkP/+ByN9onawU6LRywAfd",
      "include_colab_link": true
    },
    "kernelspec": {
      "name": "python3",
      "display_name": "Python 3"
    },
    "language_info": {
      "name": "python"
    }
  },
  "cells": [
    {
      "cell_type": "markdown",
      "metadata": {
        "id": "view-in-github",
        "colab_type": "text"
      },
      "source": [
        "<a href=\"https://colab.research.google.com/github/Keleigh123/revisionPandas/blob/main/trainingFull.ipynb\" target=\"_parent\"><img src=\"https://colab.research.google.com/assets/colab-badge.svg\" alt=\"Open In Colab\"/></a>"
      ]
    },
    {
      "cell_type": "code",
      "metadata": {
        "id": "FAqeyITKwBGV"
      },
      "source": [
        "#from numpy import mean\n",
        "#from numpy import std\n",
        "from pandas import read_csv\n",
        "from sklearn.model_selection import train_test_split\n",
        "from sklearn.linear_model import LogisticRegression\n",
        "from sklearn.preprocessing import LabelEncoder\n",
        "from sklearn.preprocessing import OneHotEncoder\n",
        "from sklearn.metrics import accuracy_score\n",
        "# define the location of the dataset\n",
        "url = \"https://raw.githubusercontent.com/jbrownlee/Datasets/master/breast-cancer.csv\"\n",
        "# load the dataset\n",
        "dataset = read_csv(url, header=None)\n",
        "dataset.head()"
      ],
      "execution_count": null,
      "outputs": []
    },
    {
      "cell_type": "code",
      "metadata": {
        "id": "Hj3nTI0pIXi9"
      },
      "source": [
        "data = dataset.values\n",
        "# separate into input and output columns\n",
        "\n"
      ],
      "execution_count": 35,
      "outputs": []
    },
    {
      "cell_type": "code",
      "metadata": {
        "id": "3YAgmx9rPvHO"
      },
      "source": [
        "X = data[:, :-1].astype(str)\n",
        "y = data[:, -1].astype(str)"
      ],
      "execution_count": 36,
      "outputs": []
    },
    {
      "cell_type": "code",
      "metadata": {
        "id": "xkcEXpiLIlIE"
      },
      "source": [
        "X_train, X_test, y_train, y_test = train_test_split(X, y, random_state=1)#test_size=0.33,\n",
        "# one-hot encode input variables\n",
        "onehot_encoder = OneHotEncoder()\n",
        "#onehot_encoder.fit(X_train)\n",
        "X_train = onehot_encoder.fit_transform(X_train)\n",
        "X_test = onehot_encoder.transform(X_test)"
      ],
      "execution_count": 37,
      "outputs": []
    },
    {
      "cell_type": "code",
      "metadata": {
        "id": "GiKIFr6MItxN"
      },
      "source": [
        "label_encoder = LabelEncoder()\n",
        "#label_encoder.fit(y_train)\n",
        "y_train = label_encoder.fit_transform(y_train)\n",
        "y_test = label_encoder.transform(y_test)"
      ],
      "execution_count": 38,
      "outputs": []
    },
    {
      "cell_type": "code",
      "metadata": {
        "colab": {
          "base_uri": "https://localhost:8080/"
        },
        "id": "oPFf-zHSI0t2",
        "outputId": "0b45a8a3-db47-403f-908b-f81ebd051e84"
      },
      "source": [
        "model = LogisticRegression()\n",
        "# fit on the training set\n",
        "model.fit(X_train, y_train)\n",
        "# predict on test set\n",
        "yhat = model.predict(X_test)\n",
        "# evaluate predictions\n",
        "accuracy = accuracy_score(y_test, yhat)\n",
        "print('Accuracy: %.2f' % (accuracy*100))"
      ],
      "execution_count": 39,
      "outputs": [
        {
          "output_type": "stream",
          "name": "stdout",
          "text": [
            "Accuracy: 73.61\n"
          ]
        }
      ]
    }
  ]
}