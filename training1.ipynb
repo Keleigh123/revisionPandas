{
  "nbformat": 4,
  "nbformat_minor": 0,
  "metadata": {
    "colab": {
      "name": "Untitled2.ipynb",
      "provenance": [],
      "authorship_tag": "ABX9TyOWYpFTwbxpXjRosz+XXsy8",
      "include_colab_link": true
    },
    "kernelspec": {
      "name": "python3",
      "display_name": "Python 3"
    },
    "language_info": {
      "name": "python"
    }
  },
  "cells": [
    {
      "cell_type": "markdown",
      "metadata": {
        "id": "view-in-github",
        "colab_type": "text"
      },
      "source": [
        "<a href=\"https://colab.research.google.com/github/Keleigh123/revisionPandas/blob/main/training1.ipynb\" target=\"_parent\"><img src=\"https://colab.research.google.com/assets/colab-badge.svg\" alt=\"Open In Colab\"/></a>"
      ]
    },
    {
      "cell_type": "code",
      "metadata": {
        "colab": {
          "base_uri": "https://localhost:8080/",
          "height": 224
        },
        "id": "WKyqdcPWbayT",
        "outputId": "9c640a10-1200-4cc5-fdc1-055d75b171f7"
      },
      "source": [
        "import pandas as pd\n",
        "data = pd.read_csv('https://raw.githubusercontent.com/Keleigh123/revisionPandas/main/online_shoppers_intention.csv')\n",
        "data.head()"
      ],
      "execution_count": 37,
      "outputs": [
        {
          "output_type": "execute_result",
          "data": {
            "text/html": [
              "<div>\n",
              "<style scoped>\n",
              "    .dataframe tbody tr th:only-of-type {\n",
              "        vertical-align: middle;\n",
              "    }\n",
              "\n",
              "    .dataframe tbody tr th {\n",
              "        vertical-align: top;\n",
              "    }\n",
              "\n",
              "    .dataframe thead th {\n",
              "        text-align: right;\n",
              "    }\n",
              "</style>\n",
              "<table border=\"1\" class=\"dataframe\">\n",
              "  <thead>\n",
              "    <tr style=\"text-align: right;\">\n",
              "      <th></th>\n",
              "      <th>Administrative</th>\n",
              "      <th>Administrative_Duration</th>\n",
              "      <th>Informational</th>\n",
              "      <th>Informational_Duration</th>\n",
              "      <th>ProductRelated</th>\n",
              "      <th>ProductRelated_Duration</th>\n",
              "      <th>BounceRates</th>\n",
              "      <th>ExitRates</th>\n",
              "      <th>PageValues</th>\n",
              "      <th>SpecialDay</th>\n",
              "      <th>Month</th>\n",
              "      <th>OperatingSystems</th>\n",
              "      <th>Browser</th>\n",
              "      <th>Region</th>\n",
              "      <th>TrafficType</th>\n",
              "      <th>VisitorType</th>\n",
              "      <th>Weekend</th>\n",
              "      <th>Revenue</th>\n",
              "    </tr>\n",
              "  </thead>\n",
              "  <tbody>\n",
              "    <tr>\n",
              "      <th>0</th>\n",
              "      <td>0</td>\n",
              "      <td>0.0</td>\n",
              "      <td>0</td>\n",
              "      <td>0.0</td>\n",
              "      <td>1</td>\n",
              "      <td>0.000000</td>\n",
              "      <td>0.20</td>\n",
              "      <td>0.20</td>\n",
              "      <td>0.0</td>\n",
              "      <td>0.0</td>\n",
              "      <td>Feb</td>\n",
              "      <td>1</td>\n",
              "      <td>1</td>\n",
              "      <td>1</td>\n",
              "      <td>1</td>\n",
              "      <td>Returning_Visitor</td>\n",
              "      <td>False</td>\n",
              "      <td>False</td>\n",
              "    </tr>\n",
              "    <tr>\n",
              "      <th>1</th>\n",
              "      <td>0</td>\n",
              "      <td>0.0</td>\n",
              "      <td>0</td>\n",
              "      <td>0.0</td>\n",
              "      <td>2</td>\n",
              "      <td>64.000000</td>\n",
              "      <td>0.00</td>\n",
              "      <td>0.10</td>\n",
              "      <td>0.0</td>\n",
              "      <td>0.0</td>\n",
              "      <td>Feb</td>\n",
              "      <td>2</td>\n",
              "      <td>2</td>\n",
              "      <td>1</td>\n",
              "      <td>2</td>\n",
              "      <td>Returning_Visitor</td>\n",
              "      <td>False</td>\n",
              "      <td>False</td>\n",
              "    </tr>\n",
              "    <tr>\n",
              "      <th>2</th>\n",
              "      <td>0</td>\n",
              "      <td>0.0</td>\n",
              "      <td>0</td>\n",
              "      <td>0.0</td>\n",
              "      <td>1</td>\n",
              "      <td>0.000000</td>\n",
              "      <td>0.20</td>\n",
              "      <td>0.20</td>\n",
              "      <td>0.0</td>\n",
              "      <td>0.0</td>\n",
              "      <td>Feb</td>\n",
              "      <td>4</td>\n",
              "      <td>1</td>\n",
              "      <td>9</td>\n",
              "      <td>3</td>\n",
              "      <td>Returning_Visitor</td>\n",
              "      <td>False</td>\n",
              "      <td>False</td>\n",
              "    </tr>\n",
              "    <tr>\n",
              "      <th>3</th>\n",
              "      <td>0</td>\n",
              "      <td>0.0</td>\n",
              "      <td>0</td>\n",
              "      <td>0.0</td>\n",
              "      <td>2</td>\n",
              "      <td>2.666667</td>\n",
              "      <td>0.05</td>\n",
              "      <td>0.14</td>\n",
              "      <td>0.0</td>\n",
              "      <td>0.0</td>\n",
              "      <td>Feb</td>\n",
              "      <td>3</td>\n",
              "      <td>2</td>\n",
              "      <td>2</td>\n",
              "      <td>4</td>\n",
              "      <td>Returning_Visitor</td>\n",
              "      <td>False</td>\n",
              "      <td>False</td>\n",
              "    </tr>\n",
              "    <tr>\n",
              "      <th>4</th>\n",
              "      <td>0</td>\n",
              "      <td>0.0</td>\n",
              "      <td>0</td>\n",
              "      <td>0.0</td>\n",
              "      <td>10</td>\n",
              "      <td>627.500000</td>\n",
              "      <td>0.02</td>\n",
              "      <td>0.05</td>\n",
              "      <td>0.0</td>\n",
              "      <td>0.0</td>\n",
              "      <td>Feb</td>\n",
              "      <td>3</td>\n",
              "      <td>3</td>\n",
              "      <td>1</td>\n",
              "      <td>4</td>\n",
              "      <td>Returning_Visitor</td>\n",
              "      <td>True</td>\n",
              "      <td>False</td>\n",
              "    </tr>\n",
              "  </tbody>\n",
              "</table>\n",
              "</div>"
            ],
            "text/plain": [
              "   Administrative  Administrative_Duration  ...  Weekend  Revenue\n",
              "0               0                      0.0  ...    False    False\n",
              "1               0                      0.0  ...    False    False\n",
              "2               0                      0.0  ...    False    False\n",
              "3               0                      0.0  ...    False    False\n",
              "4               0                      0.0  ...     True    False\n",
              "\n",
              "[5 rows x 18 columns]"
            ]
          },
          "metadata": {},
          "execution_count": 37
        }
      ]
    },
    {
      "cell_type": "code",
      "metadata": {
        "colab": {
          "base_uri": "https://localhost:8080/"
        },
        "id": "JrtDmM4GcQrX",
        "outputId": "4403b3e5-9666-4f2d-99d1-c6bbce4d2552"
      },
      "source": [
        "data.info()"
      ],
      "execution_count": 38,
      "outputs": [
        {
          "output_type": "stream",
          "name": "stdout",
          "text": [
            "<class 'pandas.core.frame.DataFrame'>\n",
            "RangeIndex: 12330 entries, 0 to 12329\n",
            "Data columns (total 18 columns):\n",
            " #   Column                   Non-Null Count  Dtype  \n",
            "---  ------                   --------------  -----  \n",
            " 0   Administrative           12330 non-null  int64  \n",
            " 1   Administrative_Duration  12330 non-null  float64\n",
            " 2   Informational            12330 non-null  int64  \n",
            " 3   Informational_Duration   12330 non-null  float64\n",
            " 4   ProductRelated           12330 non-null  int64  \n",
            " 5   ProductRelated_Duration  12330 non-null  float64\n",
            " 6   BounceRates              12330 non-null  float64\n",
            " 7   ExitRates                12330 non-null  float64\n",
            " 8   PageValues               12330 non-null  float64\n",
            " 9   SpecialDay               12330 non-null  float64\n",
            " 10  Month                    12330 non-null  object \n",
            " 11  OperatingSystems         12330 non-null  int64  \n",
            " 12  Browser                  12330 non-null  int64  \n",
            " 13  Region                   12330 non-null  int64  \n",
            " 14  TrafficType              12330 non-null  int64  \n",
            " 15  VisitorType              12330 non-null  object \n",
            " 16  Weekend                  12330 non-null  bool   \n",
            " 17  Revenue                  12330 non-null  bool   \n",
            "dtypes: bool(2), float64(7), int64(7), object(2)\n",
            "memory usage: 1.5+ MB\n"
          ]
        }
      ]
    },
    {
      "cell_type": "code",
      "metadata": {
        "id": "OZrUKWtScUiO"
      },
      "source": [
        "cat_cols=['Month','Weekend','Revenue']"
      ],
      "execution_count": 44,
      "outputs": []
    },
    {
      "cell_type": "code",
      "metadata": {
        "id": "CT8EdTQvhLf1"
      },
      "source": [
        "from sklearn.preprocessing import LabelEncoder,OneHotEncoder\n",
        "ohe=OneHotEncoder()\n",
        "le = LabelEncoder()\n"
      ],
      "execution_count": 45,
      "outputs": []
    },
    {
      "cell_type": "code",
      "metadata": {
        "colab": {
          "base_uri": "https://localhost:8080/"
        },
        "id": "VzsbgkD8hLjX",
        "outputId": "e841cb40-047a-4618-e016-5b3a91e80689"
      },
      "source": [
        "array=ohe.fit_transform(data[cat_cols]).toarray() #applying ohe to cat_cols. Outputs an array.\n",
        "data_ohe=pd.DataFrame(array,index=data.index)#converts array to dataframe\n",
        "#drop_cols=data.drop(columns=cat_cols)#drops cat_cols\n",
        "data_output=pd.concat([data,data_ohe],axis=1)#appends dataframe with dropped columns\n",
        "data_output=data_output.drop(columns=cat_cols)\n",
        "print(data_output.head())"
      ],
      "execution_count": 47,
      "outputs": [
        {
          "output_type": "stream",
          "name": "stdout",
          "text": [
            "   Administrative  Administrative_Duration  Informational  ...   11   12   13\n",
            "0               0                      0.0              0  ...  0.0  1.0  0.0\n",
            "1               0                      0.0              0  ...  0.0  1.0  0.0\n",
            "2               0                      0.0              0  ...  0.0  1.0  0.0\n",
            "3               0                      0.0              0  ...  0.0  1.0  0.0\n",
            "4               0                      0.0              0  ...  1.0  1.0  0.0\n",
            "\n",
            "[5 rows x 29 columns]\n"
          ]
        }
      ]
    },
    {
      "cell_type": "code",
      "metadata": {
        "colab": {
          "base_uri": "https://localhost:8080/"
        },
        "id": "DcfRjhklgLAN",
        "outputId": "48d05edd-518f-47c9-ef8d-a89c84e7cdba"
      },
      "source": [
        "data_output.info()"
      ],
      "execution_count": 48,
      "outputs": [
        {
          "output_type": "stream",
          "name": "stdout",
          "text": [
            "<class 'pandas.core.frame.DataFrame'>\n",
            "RangeIndex: 12330 entries, 0 to 12329\n",
            "Data columns (total 29 columns):\n",
            " #   Column                   Non-Null Count  Dtype  \n",
            "---  ------                   --------------  -----  \n",
            " 0   Administrative           12330 non-null  int64  \n",
            " 1   Administrative_Duration  12330 non-null  float64\n",
            " 2   Informational            12330 non-null  int64  \n",
            " 3   Informational_Duration   12330 non-null  float64\n",
            " 4   ProductRelated           12330 non-null  int64  \n",
            " 5   ProductRelated_Duration  12330 non-null  float64\n",
            " 6   BounceRates              12330 non-null  float64\n",
            " 7   ExitRates                12330 non-null  float64\n",
            " 8   PageValues               12330 non-null  float64\n",
            " 9   SpecialDay               12330 non-null  float64\n",
            " 10  OperatingSystems         12330 non-null  int64  \n",
            " 11  Browser                  12330 non-null  int64  \n",
            " 12  Region                   12330 non-null  int64  \n",
            " 13  TrafficType              12330 non-null  int64  \n",
            " 14  VisitorType              12330 non-null  object \n",
            " 15  0                        12330 non-null  float64\n",
            " 16  1                        12330 non-null  float64\n",
            " 17  2                        12330 non-null  float64\n",
            " 18  3                        12330 non-null  float64\n",
            " 19  4                        12330 non-null  float64\n",
            " 20  5                        12330 non-null  float64\n",
            " 21  6                        12330 non-null  float64\n",
            " 22  7                        12330 non-null  float64\n",
            " 23  8                        12330 non-null  float64\n",
            " 24  9                        12330 non-null  float64\n",
            " 25  10                       12330 non-null  float64\n",
            " 26  11                       12330 non-null  float64\n",
            " 27  12                       12330 non-null  float64\n",
            " 28  13                       12330 non-null  float64\n",
            "dtypes: float64(21), int64(7), object(1)\n",
            "memory usage: 2.7+ MB\n"
          ]
        }
      ]
    },
    {
      "cell_type": "code",
      "metadata": {
        "colab": {
          "base_uri": "https://localhost:8080/"
        },
        "id": "FBJjoa9GrUO1",
        "outputId": "df7cc415-a4e2-49c8-f08f-8bda50126fa8"
      },
      "source": [
        "data_output['VisitorType']=le.fit_transform(data_output['VisitorType'])\n",
        "print(data_output.head())"
      ],
      "execution_count": 51,
      "outputs": [
        {
          "output_type": "stream",
          "name": "stdout",
          "text": [
            "   Administrative  Administrative_Duration  Informational  ...   11   12   13\n",
            "0               0                      0.0              0  ...  0.0  1.0  0.0\n",
            "1               0                      0.0              0  ...  0.0  1.0  0.0\n",
            "2               0                      0.0              0  ...  0.0  1.0  0.0\n",
            "3               0                      0.0              0  ...  0.0  1.0  0.0\n",
            "4               0                      0.0              0  ...  1.0  1.0  0.0\n",
            "\n",
            "[5 rows x 29 columns]\n"
          ]
        }
      ]
    },
    {
      "cell_type": "code",
      "metadata": {
        "id": "zCUNjgZDsG9V"
      },
      "source": [
        "features = ['ProductRelated','ProductRelated_Duration','BounceRates','ExitRates','OperatingSystems','Region','TrafficType']\n",
        "x = data_output[features]\n",
        "y= data_output.VisitorType"
      ],
      "execution_count": 55,
      "outputs": []
    },
    {
      "cell_type": "code",
      "metadata": {
        "id": "-o7dtJMbdB5i"
      },
      "source": [
        "from sklearn.model_selection import train_test_split\n",
        "train_x,test_x,train_y,test_y=train_test_split(x,y,random_state=1)"
      ],
      "execution_count": 56,
      "outputs": []
    },
    {
      "cell_type": "code",
      "metadata": {
        "id": "skFBtT2rdznu"
      },
      "source": [
        "from sklearn.ensemble import RandomForestClassifier\n",
        "model = RandomForestClassifier()"
      ],
      "execution_count": 57,
      "outputs": []
    },
    {
      "cell_type": "code",
      "metadata": {
        "id": "SYzVauLCuUUn"
      },
      "source": [
        "model.fit(train_x,train_y)\n",
        "pred = model.predict(test_x)"
      ],
      "execution_count": 58,
      "outputs": []
    },
    {
      "cell_type": "code",
      "metadata": {
        "id": "pLQAymJRus1S"
      },
      "source": [
        "output = pd.DataFrame({'ProductRelated':test_x.ProductRelated,'ProductRelated_Duration':test_x.ProductRelated_Duration,'Region':test_x.Region,'TrafficType':test_x.TrafficType,'VisitorType':pred})"
      ],
      "execution_count": 59,
      "outputs": []
    },
    {
      "cell_type": "code",
      "metadata": {
        "colab": {
          "base_uri": "https://localhost:8080/"
        },
        "id": "jtWJfaIkvfeY",
        "outputId": "42a1acac-21e7-4b3a-cc3d-6bb0b84fd1e2"
      },
      "source": [
        "print(output)"
      ],
      "execution_count": 60,
      "outputs": [
        {
          "output_type": "stream",
          "name": "stdout",
          "text": [
            "       ProductRelated  ProductRelated_Duration  ...  TrafficType  VisitorType\n",
            "5487                1                 0.000000  ...            5            2\n",
            "7736               34               588.366667  ...            1            2\n",
            "5310                2                73.000000  ...            3            2\n",
            "2982               20               401.500000  ...            2            0\n",
            "662                 8               202.166667  ...            8            0\n",
            "...               ...                      ...  ...          ...          ...\n",
            "11412              34               456.525000  ...            1            2\n",
            "6275                2                34.200000  ...            2            2\n",
            "259                 7               188.000000  ...            8            0\n",
            "7433               14               497.800000  ...            2            2\n",
            "12270              93              2773.010873  ...            3            2\n",
            "\n",
            "[3083 rows x 5 columns]\n"
          ]
        }
      ]
    }
  ]
}